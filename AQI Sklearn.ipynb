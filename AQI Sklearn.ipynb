{
 "cells": [
  {
   "cell_type": "code",
   "execution_count": 72,
   "metadata": {
    "collapsed": false
   },
   "outputs": [],
   "source": [
    "import numpy as np\n",
    "import pandas as pd\n",
    "import matplotlib.pyplot as plt\n",
    "import sklearn as sk\n",
    "from sklearn.metrics import mean_squared_error\n",
    "from sklearn.pipeline import Pipeline\n",
    "from sklearn.linear_model import LinearRegression\n",
    "from sklearn.ensemble import RandomForestRegressor\n",
    "from scipy import stats\n",
    "import math\n",
    "%matplotlib inline"
   ]
  },
  {
   "cell_type": "markdown",
   "metadata": {},
   "source": [
    "This is a kaggle competition project done for my machine learning class that estimates the air quality index for Jing'an temple in Shanghai"
   ]
  },
  {
   "cell_type": "code",
   "execution_count": 73,
   "metadata": {
    "collapsed": false
   },
   "outputs": [],
   "source": [
    "df = pd.read_csv('''./Data/ShanghaiPMI25_tr.csv''')\n",
    "df2 = pd.read_csv('''./Data/ShanghaiPMI25_te.csv''')"
   ]
  },
  {
   "cell_type": "code",
   "execution_count": 74,
   "metadata": {},
   "outputs": [
    {
     "data": {
      "text/html": [
       "<div>\n",
       "<style scoped>\n",
       "    .dataframe tbody tr th:only-of-type {\n",
       "        vertical-align: middle;\n",
       "    }\n",
       "\n",
       "    .dataframe tbody tr th {\n",
       "        vertical-align: top;\n",
       "    }\n",
       "\n",
       "    .dataframe thead th {\n",
       "        text-align: right;\n",
       "    }\n",
       "</style>\n",
       "<table border=\"1\" class=\"dataframe\">\n",
       "  <thead>\n",
       "    <tr style=\"text-align: right;\">\n",
       "      <th></th>\n",
       "      <th>No</th>\n",
       "      <th>year</th>\n",
       "      <th>month</th>\n",
       "      <th>day</th>\n",
       "      <th>hour</th>\n",
       "      <th>season</th>\n",
       "      <th>PM_Jingan</th>\n",
       "      <th>DEWP</th>\n",
       "      <th>HUMI</th>\n",
       "      <th>PRES</th>\n",
       "      <th>TEMP</th>\n",
       "      <th>cbwd</th>\n",
       "      <th>Iws</th>\n",
       "      <th>precipitation</th>\n",
       "      <th>Iprec</th>\n",
       "    </tr>\n",
       "  </thead>\n",
       "  <tbody>\n",
       "    <tr>\n",
       "      <th>0</th>\n",
       "      <td>26305</td>\n",
       "      <td>2013</td>\n",
       "      <td>1</td>\n",
       "      <td>1</td>\n",
       "      <td>0</td>\n",
       "      <td>4</td>\n",
       "      <td>66</td>\n",
       "      <td>-5</td>\n",
       "      <td>69.00</td>\n",
       "      <td>1023</td>\n",
       "      <td>0</td>\n",
       "      <td>SW</td>\n",
       "      <td>60</td>\n",
       "      <td>0.0</td>\n",
       "      <td>0.0</td>\n",
       "    </tr>\n",
       "    <tr>\n",
       "      <th>1</th>\n",
       "      <td>26306</td>\n",
       "      <td>2013</td>\n",
       "      <td>1</td>\n",
       "      <td>1</td>\n",
       "      <td>1</td>\n",
       "      <td>4</td>\n",
       "      <td>67</td>\n",
       "      <td>-5</td>\n",
       "      <td>69.00</td>\n",
       "      <td>1023</td>\n",
       "      <td>0</td>\n",
       "      <td>SW</td>\n",
       "      <td>62</td>\n",
       "      <td>0.0</td>\n",
       "      <td>0.0</td>\n",
       "    </tr>\n",
       "    <tr>\n",
       "      <th>2</th>\n",
       "      <td>26308</td>\n",
       "      <td>2013</td>\n",
       "      <td>1</td>\n",
       "      <td>1</td>\n",
       "      <td>3</td>\n",
       "      <td>4</td>\n",
       "      <td>73</td>\n",
       "      <td>-4</td>\n",
       "      <td>74.41</td>\n",
       "      <td>1023</td>\n",
       "      <td>0</td>\n",
       "      <td>SW</td>\n",
       "      <td>65</td>\n",
       "      <td>0.0</td>\n",
       "      <td>0.0</td>\n",
       "    </tr>\n",
       "    <tr>\n",
       "      <th>3</th>\n",
       "      <td>26309</td>\n",
       "      <td>2013</td>\n",
       "      <td>1</td>\n",
       "      <td>1</td>\n",
       "      <td>4</td>\n",
       "      <td>4</td>\n",
       "      <td>75</td>\n",
       "      <td>-4</td>\n",
       "      <td>80.04</td>\n",
       "      <td>1023</td>\n",
       "      <td>-1</td>\n",
       "      <td>SW</td>\n",
       "      <td>68</td>\n",
       "      <td>0.0</td>\n",
       "      <td>0.0</td>\n",
       "    </tr>\n",
       "    <tr>\n",
       "      <th>4</th>\n",
       "      <td>26310</td>\n",
       "      <td>2013</td>\n",
       "      <td>1</td>\n",
       "      <td>1</td>\n",
       "      <td>5</td>\n",
       "      <td>4</td>\n",
       "      <td>73</td>\n",
       "      <td>-4</td>\n",
       "      <td>80.04</td>\n",
       "      <td>1023</td>\n",
       "      <td>-1</td>\n",
       "      <td>SW</td>\n",
       "      <td>70</td>\n",
       "      <td>0.0</td>\n",
       "      <td>0.0</td>\n",
       "    </tr>\n",
       "  </tbody>\n",
       "</table>\n",
       "</div>"
      ],
      "text/plain": [
       "      No  year  month  day  hour  season  PM_Jingan  DEWP   HUMI  PRES  TEMP  \\\n",
       "0  26305  2013      1    1     0       4         66    -5  69.00  1023     0   \n",
       "1  26306  2013      1    1     1       4         67    -5  69.00  1023     0   \n",
       "2  26308  2013      1    1     3       4         73    -4  74.41  1023     0   \n",
       "3  26309  2013      1    1     4       4         75    -4  80.04  1023    -1   \n",
       "4  26310  2013      1    1     5       4         73    -4  80.04  1023    -1   \n",
       "\n",
       "  cbwd  Iws  precipitation  Iprec  \n",
       "0   SW   60            0.0    0.0  \n",
       "1   SW   62            0.0    0.0  \n",
       "2   SW   65            0.0    0.0  \n",
       "3   SW   68            0.0    0.0  \n",
       "4   SW   70            0.0    0.0  "
      ]
     },
     "execution_count": 74,
     "metadata": {},
     "output_type": "execute_result"
    }
   ],
   "source": [
    "df.head()"
   ]
  },
  {
   "cell_type": "markdown",
   "metadata": {},
   "source": [
    "First we convert combined wind direction to a format which our model can parse. We turn the cbwd column onto four columns with a binary value for each direction i.e N, S, E, W. There is a posible colinearity trap here because if any three directions are 0 we know that the fourth one will be a 1. Or if two diretions have 1 values then the rest will we know have to be zeroes.However because the wind direction can either be 2 directions or a singular direction if we have one positive value and two zero values we are unable to determine the fourth value because it could either be a 1 or a zero."
   ]
  },
  {
   "cell_type": "code",
   "execution_count": 75,
   "metadata": {
    "collapsed": false
   },
   "outputs": [
    {
     "data": {
      "text/html": [
       "<div>\n",
       "<style scoped>\n",
       "    .dataframe tbody tr th:only-of-type {\n",
       "        vertical-align: middle;\n",
       "    }\n",
       "\n",
       "    .dataframe tbody tr th {\n",
       "        vertical-align: top;\n",
       "    }\n",
       "\n",
       "    .dataframe thead th {\n",
       "        text-align: right;\n",
       "    }\n",
       "</style>\n",
       "<table border=\"1\" class=\"dataframe\">\n",
       "  <thead>\n",
       "    <tr style=\"text-align: right;\">\n",
       "      <th></th>\n",
       "      <th>No</th>\n",
       "      <th>year</th>\n",
       "      <th>month</th>\n",
       "      <th>day</th>\n",
       "      <th>hour</th>\n",
       "      <th>season</th>\n",
       "      <th>DEWP</th>\n",
       "      <th>HUMI</th>\n",
       "      <th>PRES</th>\n",
       "      <th>TEMP</th>\n",
       "      <th>cbwd</th>\n",
       "      <th>Iws</th>\n",
       "      <th>precipitation</th>\n",
       "      <th>Iprec</th>\n",
       "      <th>N</th>\n",
       "      <th>S</th>\n",
       "      <th>E</th>\n",
       "      <th>W</th>\n",
       "    </tr>\n",
       "  </thead>\n",
       "  <tbody>\n",
       "    <tr>\n",
       "      <th>0</th>\n",
       "      <td>41333</td>\n",
       "      <td>1</td>\n",
       "      <td>9</td>\n",
       "      <td>19</td>\n",
       "      <td>4</td>\n",
       "      <td>3</td>\n",
       "      <td>16</td>\n",
       "      <td>77.79</td>\n",
       "      <td>1013</td>\n",
       "      <td>20</td>\n",
       "      <td>cv</td>\n",
       "      <td>0</td>\n",
       "      <td>0.0</td>\n",
       "      <td>0.0</td>\n",
       "      <td>0</td>\n",
       "      <td>0</td>\n",
       "      <td>0</td>\n",
       "      <td>0</td>\n",
       "    </tr>\n",
       "    <tr>\n",
       "      <th>1</th>\n",
       "      <td>41335</td>\n",
       "      <td>1</td>\n",
       "      <td>9</td>\n",
       "      <td>19</td>\n",
       "      <td>6</td>\n",
       "      <td>3</td>\n",
       "      <td>18</td>\n",
       "      <td>93.94</td>\n",
       "      <td>1013</td>\n",
       "      <td>19</td>\n",
       "      <td>NW</td>\n",
       "      <td>5</td>\n",
       "      <td>0.3</td>\n",
       "      <td>0.3</td>\n",
       "      <td>1</td>\n",
       "      <td>0</td>\n",
       "      <td>0</td>\n",
       "      <td>1</td>\n",
       "    </tr>\n",
       "    <tr>\n",
       "      <th>2</th>\n",
       "      <td>41336</td>\n",
       "      <td>1</td>\n",
       "      <td>9</td>\n",
       "      <td>19</td>\n",
       "      <td>7</td>\n",
       "      <td>3</td>\n",
       "      <td>17</td>\n",
       "      <td>88.20</td>\n",
       "      <td>1014</td>\n",
       "      <td>19</td>\n",
       "      <td>NE</td>\n",
       "      <td>3</td>\n",
       "      <td>2.2</td>\n",
       "      <td>2.5</td>\n",
       "      <td>1</td>\n",
       "      <td>0</td>\n",
       "      <td>1</td>\n",
       "      <td>0</td>\n",
       "    </tr>\n",
       "    <tr>\n",
       "      <th>3</th>\n",
       "      <td>41337</td>\n",
       "      <td>1</td>\n",
       "      <td>9</td>\n",
       "      <td>19</td>\n",
       "      <td>8</td>\n",
       "      <td>3</td>\n",
       "      <td>18</td>\n",
       "      <td>93.94</td>\n",
       "      <td>1014</td>\n",
       "      <td>19</td>\n",
       "      <td>NE</td>\n",
       "      <td>7</td>\n",
       "      <td>1.5</td>\n",
       "      <td>4.0</td>\n",
       "      <td>1</td>\n",
       "      <td>0</td>\n",
       "      <td>1</td>\n",
       "      <td>0</td>\n",
       "    </tr>\n",
       "    <tr>\n",
       "      <th>4</th>\n",
       "      <td>41338</td>\n",
       "      <td>1</td>\n",
       "      <td>9</td>\n",
       "      <td>19</td>\n",
       "      <td>9</td>\n",
       "      <td>3</td>\n",
       "      <td>18</td>\n",
       "      <td>93.94</td>\n",
       "      <td>1014</td>\n",
       "      <td>19</td>\n",
       "      <td>NE</td>\n",
       "      <td>9</td>\n",
       "      <td>1.2</td>\n",
       "      <td>5.2</td>\n",
       "      <td>1</td>\n",
       "      <td>0</td>\n",
       "      <td>1</td>\n",
       "      <td>0</td>\n",
       "    </tr>\n",
       "  </tbody>\n",
       "</table>\n",
       "</div>"
      ],
      "text/plain": [
       "      No  year  month  day  hour  season  DEWP   HUMI  PRES  TEMP cbwd  Iws  \\\n",
       "0  41333     1      9   19     4       3    16  77.79  1013    20   cv    0   \n",
       "1  41335     1      9   19     6       3    18  93.94  1013    19   NW    5   \n",
       "2  41336     1      9   19     7       3    17  88.20  1014    19   NE    3   \n",
       "3  41337     1      9   19     8       3    18  93.94  1014    19   NE    7   \n",
       "4  41338     1      9   19     9       3    18  93.94  1014    19   NE    9   \n",
       "\n",
       "   precipitation  Iprec  N  S  E  W  \n",
       "0            0.0    0.0  0  0  0  0  \n",
       "1            0.3    0.3  1  0  0  1  \n",
       "2            2.2    2.5  1  0  1  0  \n",
       "3            1.5    4.0  1  0  1  0  \n",
       "4            1.2    5.2  1  0  1  0  "
      ]
     },
     "execution_count": 75,
     "metadata": {},
     "output_type": "execute_result"
    }
   ],
   "source": [
    "df['N'] = pd.Series([1 if 'N' in x else 0 for x in df['cbwd']], index=df.index)\n",
    "df['S'] = pd.Series([1 if 'S' in x else 0 for x in df['cbwd']], index=df.index)\n",
    "df['E'] = pd.Series([1 if 'E' in x else 0 for x in df['cbwd']], index=df.index)\n",
    "df['W'] = pd.Series([1 if 'W' in x else 0 for x in df['cbwd']], index=df.index)\n",
    "df['year'] = df['year'] - 2013\n",
    "df.head()\n",
    "df2['N'] = pd.Series([1 if 'N' in x else 0 for x in df2['cbwd']], index=df2.index)\n",
    "df2['S'] = pd.Series([1 if 'S' in x else 0 for x in df2['cbwd']], index=df2.index)\n",
    "df2['E'] = pd.Series([1 if 'E' in x else 0 for x in df2['cbwd']], index=df2.index)\n",
    "df2['W'] = pd.Series([1 if 'W' in x else 0 for x in df2['cbwd']], index=df2.index)\n",
    "df2['year'] = df2['year'] - 2013\n",
    "df2.head()"
   ]
  },
  {
   "cell_type": "markdown",
   "metadata": {},
   "source": [
    "Next we drop the cbwd column that we replaced and convert the database float64 data objects to avoid runtime warnings\n"
   ]
  },
  {
   "cell_type": "code",
   "execution_count": 76,
   "metadata": {
    "collapsed": false
   },
   "outputs": [
    {
     "data": {
      "text/html": [
       "<div>\n",
       "<style scoped>\n",
       "    .dataframe tbody tr th:only-of-type {\n",
       "        vertical-align: middle;\n",
       "    }\n",
       "\n",
       "    .dataframe tbody tr th {\n",
       "        vertical-align: top;\n",
       "    }\n",
       "\n",
       "    .dataframe thead th {\n",
       "        text-align: right;\n",
       "    }\n",
       "</style>\n",
       "<table border=\"1\" class=\"dataframe\">\n",
       "  <thead>\n",
       "    <tr style=\"text-align: right;\">\n",
       "      <th></th>\n",
       "      <th>No</th>\n",
       "      <th>year</th>\n",
       "      <th>month</th>\n",
       "      <th>day</th>\n",
       "      <th>hour</th>\n",
       "      <th>season</th>\n",
       "      <th>PM_Jingan</th>\n",
       "      <th>DEWP</th>\n",
       "      <th>HUMI</th>\n",
       "      <th>PRES</th>\n",
       "      <th>TEMP</th>\n",
       "      <th>Iws</th>\n",
       "      <th>precipitation</th>\n",
       "      <th>Iprec</th>\n",
       "      <th>N</th>\n",
       "      <th>S</th>\n",
       "      <th>E</th>\n",
       "      <th>W</th>\n",
       "    </tr>\n",
       "  </thead>\n",
       "  <tbody>\n",
       "    <tr>\n",
       "      <th>0</th>\n",
       "      <td>26305.0</td>\n",
       "      <td>0.0</td>\n",
       "      <td>1.0</td>\n",
       "      <td>1.0</td>\n",
       "      <td>0.0</td>\n",
       "      <td>4.0</td>\n",
       "      <td>66.0</td>\n",
       "      <td>-5.0</td>\n",
       "      <td>69.00</td>\n",
       "      <td>1023.0</td>\n",
       "      <td>0.0</td>\n",
       "      <td>60.0</td>\n",
       "      <td>0.0</td>\n",
       "      <td>0.0</td>\n",
       "      <td>0.0</td>\n",
       "      <td>1.0</td>\n",
       "      <td>0.0</td>\n",
       "      <td>1.0</td>\n",
       "    </tr>\n",
       "    <tr>\n",
       "      <th>1</th>\n",
       "      <td>26306.0</td>\n",
       "      <td>0.0</td>\n",
       "      <td>1.0</td>\n",
       "      <td>1.0</td>\n",
       "      <td>1.0</td>\n",
       "      <td>4.0</td>\n",
       "      <td>67.0</td>\n",
       "      <td>-5.0</td>\n",
       "      <td>69.00</td>\n",
       "      <td>1023.0</td>\n",
       "      <td>0.0</td>\n",
       "      <td>62.0</td>\n",
       "      <td>0.0</td>\n",
       "      <td>0.0</td>\n",
       "      <td>0.0</td>\n",
       "      <td>1.0</td>\n",
       "      <td>0.0</td>\n",
       "      <td>1.0</td>\n",
       "    </tr>\n",
       "    <tr>\n",
       "      <th>2</th>\n",
       "      <td>26308.0</td>\n",
       "      <td>0.0</td>\n",
       "      <td>1.0</td>\n",
       "      <td>1.0</td>\n",
       "      <td>3.0</td>\n",
       "      <td>4.0</td>\n",
       "      <td>73.0</td>\n",
       "      <td>-4.0</td>\n",
       "      <td>74.41</td>\n",
       "      <td>1023.0</td>\n",
       "      <td>0.0</td>\n",
       "      <td>65.0</td>\n",
       "      <td>0.0</td>\n",
       "      <td>0.0</td>\n",
       "      <td>0.0</td>\n",
       "      <td>1.0</td>\n",
       "      <td>0.0</td>\n",
       "      <td>1.0</td>\n",
       "    </tr>\n",
       "    <tr>\n",
       "      <th>3</th>\n",
       "      <td>26309.0</td>\n",
       "      <td>0.0</td>\n",
       "      <td>1.0</td>\n",
       "      <td>1.0</td>\n",
       "      <td>4.0</td>\n",
       "      <td>4.0</td>\n",
       "      <td>75.0</td>\n",
       "      <td>-4.0</td>\n",
       "      <td>80.04</td>\n",
       "      <td>1023.0</td>\n",
       "      <td>-1.0</td>\n",
       "      <td>68.0</td>\n",
       "      <td>0.0</td>\n",
       "      <td>0.0</td>\n",
       "      <td>0.0</td>\n",
       "      <td>1.0</td>\n",
       "      <td>0.0</td>\n",
       "      <td>1.0</td>\n",
       "    </tr>\n",
       "    <tr>\n",
       "      <th>4</th>\n",
       "      <td>26310.0</td>\n",
       "      <td>0.0</td>\n",
       "      <td>1.0</td>\n",
       "      <td>1.0</td>\n",
       "      <td>5.0</td>\n",
       "      <td>4.0</td>\n",
       "      <td>73.0</td>\n",
       "      <td>-4.0</td>\n",
       "      <td>80.04</td>\n",
       "      <td>1023.0</td>\n",
       "      <td>-1.0</td>\n",
       "      <td>70.0</td>\n",
       "      <td>0.0</td>\n",
       "      <td>0.0</td>\n",
       "      <td>0.0</td>\n",
       "      <td>1.0</td>\n",
       "      <td>0.0</td>\n",
       "      <td>1.0</td>\n",
       "    </tr>\n",
       "  </tbody>\n",
       "</table>\n",
       "</div>"
      ],
      "text/plain": [
       "        No  year  month  day  hour  season  PM_Jingan  DEWP   HUMI    PRES  \\\n",
       "0  26305.0   0.0    1.0  1.0   0.0     4.0       66.0  -5.0  69.00  1023.0   \n",
       "1  26306.0   0.0    1.0  1.0   1.0     4.0       67.0  -5.0  69.00  1023.0   \n",
       "2  26308.0   0.0    1.0  1.0   3.0     4.0       73.0  -4.0  74.41  1023.0   \n",
       "3  26309.0   0.0    1.0  1.0   4.0     4.0       75.0  -4.0  80.04  1023.0   \n",
       "4  26310.0   0.0    1.0  1.0   5.0     4.0       73.0  -4.0  80.04  1023.0   \n",
       "\n",
       "   TEMP   Iws  precipitation  Iprec    N    S    E    W  \n",
       "0   0.0  60.0            0.0    0.0  0.0  1.0  0.0  1.0  \n",
       "1   0.0  62.0            0.0    0.0  0.0  1.0  0.0  1.0  \n",
       "2   0.0  65.0            0.0    0.0  0.0  1.0  0.0  1.0  \n",
       "3  -1.0  68.0            0.0    0.0  0.0  1.0  0.0  1.0  \n",
       "4  -1.0  70.0            0.0    0.0  0.0  1.0  0.0  1.0  "
      ]
     },
     "execution_count": 76,
     "metadata": {},
     "output_type": "execute_result"
    }
   ],
   "source": [
    "df = df.drop(columns=['cbwd'])\n",
    "df2 = df2.drop(columns=['cbwd'])\n",
    "df = df.astype('float64')\n",
    "df2 = df2.astype('float64')\n",
    "df.head()"
   ]
  },
  {
   "cell_type": "markdown",
   "metadata": {},
   "source": [
    "Next we create our X_train, y_train, and X_test dataframes and test to make sure that they are the right size."
   ]
  },
  {
   "cell_type": "code",
   "execution_count": 77,
   "metadata": {
    "collapsed": false
   },
   "outputs": [
    {
     "name": "stdout",
     "output_type": "stream",
     "text": [
      "(13164, 16)\n",
      "(13164,)\n",
      "(9523, 16)\n"
     ]
    }
   ],
   "source": [
    "X_train = df[['year', 'month', 'day', 'hour', 'season', 'DEWP', 'HUMI', 'PRES', 'TEMP', 'Iws', 'precipitation', 'Iprec', 'N', 'S', 'E', 'W']]\n",
    "\n",
    "y_train = np.array([x for x in df.PM_Jingan])\n",
    "X_test = df2.drop('No', axis=1)\n",
    "\n",
    "assert X_train.shape[0] == y_train.shape[0]\n",
    "assert X_train.shape[1] == X_test.shape[1]\n",
    "print(X_train.shape)\n",
    "print(y_train.shape)\n",
    "print(X_test.shape)\n"
   ]
  },
  {
   "cell_type": "markdown",
   "metadata": {},
   "source": [
    "Here we have our first look at the distribution of our y values and it is clearly very skewed\n"
   ]
  },
  {
   "cell_type": "code",
   "execution_count": 78,
   "metadata": {
    "collapsed": false
   },
   "outputs": [
    {
     "data": {
      "text/plain": [
       "Text(0.5, 1.0, 'Un-Normalized')"
      ]
     },
     "execution_count": 78,
     "metadata": {},
     "output_type": "execute_result"
    },
    {
     "data": {
      "image/png": "[encoded data removed]",
      "text/plain": [
       "<Figure size 432x288 with 1 Axes>"
      ]
     },
     "metadata": {
      "needs_background": "light"
     },
     "output_type": "display_data"
    }
   ],
   "source": [
    "plt.hist(y_train, bins=200)\n",
    "plt.ylabel('Frequency')\n",
    "plt.xlabel('AQI');\n",
    "plt.title('Un-Normalized')"
   ]
  },
  {
   "cell_type": "markdown",
   "metadata": {},
   "source": [
    "We then feed our data into a pipeline of a standard scaler and a liner regression model. We do 10 fold cross validation using mse as our metric and then plot our predicted vs measured values (using predicted as the x and measured as the y for proper analysis more reading here: https://www.researchgate.net/publication/230692926_How_to_Evaluate_Models_Observed_vs_Predicted_or_Predicted_vs_Observed) and our residual vs predicted values. Ideally we want a low absolute value for our mse and for our data in a graphs to be close to and evenly distrubted across the plotted lines. Our cross validation returns an avg of mse of over 3000 indicating a very poor model, and our graphs confirm this. For our predicted vs measured plot our data is grouped up and very far from the line and many of the estimates are negative even though aqi cannot have values less than 0. For the residual plot we have many more negative residuals than positive ones and many of the negative ones are extremely large."
   ]
  },
  {
   "cell_type": "code",
   "execution_count": 79,
   "metadata": {
    "collapsed": false
   },
   "outputs": [
    {
     "data": {
      "image/png": "[encoded data removed]",
      "text/plain": [
       "<Figure size 432x288 with 1 Axes>"
      ]
     },
     "metadata": {
      "needs_background": "light"
     },
     "output_type": "display_data"
    },
    {
     "name": "stdout",
     "output_type": "stream",
     "text": [
      "[ -3315.48743613  -1301.81699129  -1391.25335324  -1379.40410648\n",
      "  -2131.80241988 -16318.44265403  -3674.40863246  -1120.97130893\n",
      "  -1317.99586182   -809.51488621]\n",
      "-3276.1097650477923\n"
     ]
    }
   ],
   "source": [
    "pipeline = Pipeline([\n",
    "    ('scaler',sk.preprocessing.StandardScaler()),\n",
    "    ('clf', LinearRegression())\n",
    "])\n",
    "predicted = sk.model_selection.cross_val_predict(pipeline, X_train, y_train, cv=10)\n",
    "\n",
    "fig, ax = plt.subplots()\n",
    "\n",
    "ax.scatter(predicted,y_train)\n",
    "ax.plot([y_train.min(), y_train.max()], [y_train.min(), y_train.max()], 'k--', lw=4)\n",
    "ax.set_xlabel('Predicted')\n",
    "ax.set_ylabel('Measured')\n",
    "plt.show()\n",
    "\n",
    "scores = sk.model_selection.cross_val_score(pipeline,X_train,y_train,cv=10,\n",
    "    scoring='neg_mean_squared_error')\n",
    "print(scores)\n",
    "print(np.mean(scores))"
   ]
  },
  {
   "cell_type": "code",
   "execution_count": 80,
   "metadata": {
    "collapsed": false
   },
   "outputs": [
    {
     "data": {
      "image/png": "[encoded data removed]",
      "text/plain": [
       "<Figure size 432x288 with 1 Axes>"
      ]
     },
     "metadata": {
      "needs_background": "light"
     },
     "output_type": "display_data"
    }
   ],
   "source": [
    "fig, ax = plt.subplots()\n",
    "residuals = (predicted - y_train)\n",
    "residuals = stats.zscore(residuals)\n",
    "\n",
    "ax.scatter(predicted, residuals)\n",
    "ax.plot([predicted.min(), predicted.max()], [0 for i in [predicted.min(), predicted.max()]] , 'k--', lw=4)\n",
    "ax.set_xlabel('Predicted')\n",
    "ax.set_ylabel('Residual')\n",
    "plt.show()"
   ]
  },
  {
   "cell_type": "markdown",
   "metadata": {},
   "source": [
    "To improve our model we recreate our datasets this time doing a log base 2 transform on our y values to normalize the data"
   ]
  },
  {
   "cell_type": "code",
   "execution_count": 89,
   "metadata": {
    "collapsed": false
   },
   "outputs": [
    {
     "name": "stdout",
     "output_type": "stream",
     "text": [
      "(9523,)\n",
      "(9523, 16)\n",
      "(13164, 16)\n",
      "(13164,)\n",
      "(9523, 16)\n"
     ]
    }
   ],
   "source": [
    "X_train = df[['year', 'month', 'day', 'hour', 'season', 'DEWP', 'HUMI', 'PRES', 'TEMP', 'Iws', 'precipitation', 'Iprec', 'N', 'S', 'E', 'W']]\n",
    "\n",
    "y_train = np.array([math.log2(x) for x in df.PM_Jingan])\n",
    "a = df2.No\n",
    "print(a.shape)\n",
    "X_test = df2.drop('No', axis=1)\n",
    "print(X_test.shape)\n",
    "print(X_train.shape)\n",
    "print(y_train.shape)\n",
    "print(X_test.shape)"
   ]
  },
  {
   "cell_type": "markdown",
   "metadata": {},
   "source": [
    "Our new graph indicates that our transform worked and the distribution of our y values appears much more gaussian in nature"
   ]
  },
  {
   "cell_type": "code",
   "execution_count": 90,
   "metadata": {
    "collapsed": false
   },
   "outputs": [
    {
     "data": {
      "image/png": "[encoded data removed]",
      "text/plain": [
       "<Figure size 432x288 with 1 Axes>"
      ]
     },
     "metadata": {
      "needs_background": "light"
     },
     "output_type": "display_data"
    }
   ],
   "source": [
    "plt.hist(y_train, bins=200)\n",
    "plt.ylabel('Frequency')\n",
    "plt.xlabel('log base 2 of AQI');\n",
    "plt.title('Normalized');"
   ]
  },
  {
   "cell_type": "markdown",
   "metadata": {},
   "source": [
    "We then feed this into the same model and get an avg mse of roughly 1.5 from our cross validation indicating a much better model. Our measured vs predicted graph shows that we are no longer predicting negative values for aqi and the data is much more evenly distributed. Our residual graph also shows a much more even distribution of our residiuals. However our distribution in our graphs still isn't truly equal and some very high residuals can be seen when values around 20 are predicted."
   ]
  },
  {
   "cell_type": "code",
   "execution_count": 91,
   "metadata": {
    "collapsed": false
   },
   "outputs": [
    {
     "data": {
      "image/png": "[encoded data removed]",
      "text/plain": [
       "<Figure size 432x288 with 1 Axes>"
      ]
     },
     "metadata": {
      "needs_background": "light"
     },
     "output_type": "display_data"
    },
    {
     "name": "stdout",
     "output_type": "stream",
     "text": [
      "[-1.09742364 -0.61722156 -0.92332561 -1.68505753 -1.55825446 -5.43553191\n",
      " -1.988524   -0.72998599 -0.70697492 -0.71640126]\n",
      "-1.5458700880353806\n"
     ]
    }
   ],
   "source": [
    "pipeline = Pipeline([\n",
    "    ('scaler',sk.preprocessing.StandardScaler()),\n",
    "    ('clf', LinearRegression())\n",
    "])\n",
    "predicted = sk.model_selection.cross_val_predict(pipeline, X_train, y_train, cv=10)\n",
    "\n",
    "fig, ax = plt.subplots()\n",
    "predicted = np.array([x**2 for x in predicted])\n",
    "y_train_unnormed = np.array([ x**2 for x in y_train])\n",
    "ax.scatter(predicted,y_train_unnormed)\n",
    "ax.plot([y_train_unnormed.min(), y_train_unnormed.max()], [y_train_unnormed.min(), y_train_unnormed.max()], 'k--', lw=4)\n",
    "ax.set_xlabel('Predicted')\n",
    "ax.set_ylabel('Measured')\n",
    "plt.show()\n",
    "\n",
    "scores = sk.model_selection.cross_val_score(pipeline,X_train,y_train,cv=10,\n",
    "    scoring='neg_mean_squared_error')\n",
    "print(scores)\n",
    "print(np.mean(scores))"
   ]
  },
  {
   "cell_type": "code",
   "execution_count": 92,
   "metadata": {
    "collapsed": false
   },
   "outputs": [
    {
     "data": {
      "image/png": "[encoded data removed]",
      "text/plain": [
       "<Figure size 432x288 with 1 Axes>"
      ]
     },
     "metadata": {
      "needs_background": "light"
     },
     "output_type": "display_data"
    }
   ],
   "source": [
    "fig, ax = plt.subplots()\n",
    "residuals = (predicted - y_train_unnormed)\n",
    "residuals = stats.zscore(residuals)\n",
    "\n",
    "ax.scatter(predicted, residuals)\n",
    "ax.plot([predicted.min(), predicted.max()], [0 for i in [predicted.min(), predicted.max()]] , 'k--', lw=4)\n",
    "ax.set_xlabel('Predicted')\n",
    "ax.set_ylabel('Residual')\n",
    "plt.show()"
   ]
  },
  {
   "cell_type": "markdown",
   "metadata": {},
   "source": [
    "Here we do a quantile plot to see if our residuals are normally distributed indicating that we have made a good model selection. What we want to see here is essentially a line in the format of y=x which indicates that our distrubution of residuals (y) matches that of a normal one (x). As we can see it dosen't quite matchup yet."
   ]
  },
  {
   "cell_type": "code",
   "execution_count": 93,
   "metadata": {},
   "outputs": [
    {
     "data": {
      "image/png": "[encoded data removed]",
      "text/plain": [
       "<Figure size 432x288 with 1 Axes>"
      ]
     },
     "metadata": {
      "needs_background": "light"
     },
     "output_type": "display_data"
    }
   ],
   "source": [
    "stats.probplot(residuals, dist=\"norm\", plot=plt)\n",
    "plt.show()"
   ]
  },
  {
   "cell_type": "markdown",
   "metadata": {},
   "source": [
    "Finally we use the same scaling but change our model to a random forest classifier with 100 n_estimators in order to reduce the variability of our model. As we can see we have a better cross validation mse avg of aprox. 1.1, our residuals are more evenly distributed, and we have reduced our largest residual from aprox. -5 to -4. This is all indicative that this is the best model we have so far."
   ]
  },
  {
   "cell_type": "code",
   "execution_count": 85,
   "metadata": {
    "collapsed": false
   },
   "outputs": [
    {
     "data": {
      "image/png": "[encoded data removed]",
      "text/plain": [
       "<Figure size 432x288 with 1 Axes>"
      ]
     },
     "metadata": {
      "needs_background": "light"
     },
     "output_type": "display_data"
    },
    {
     "name": "stdout",
     "output_type": "stream",
     "text": [
      "[-1.69512197 -0.54557583 -0.85581169 -1.2550105  -0.97273387 -1.75455141\n",
      " -1.65622043 -0.70153232 -0.78847247 -0.9854705 ]\n",
      "-1.121050098976882\n"
     ]
    }
   ],
   "source": [
    "pipeline = Pipeline([\n",
    "    ('scaler',sk.preprocessing.StandardScaler()),\n",
    "    ('clf', RandomForestRegressor(n_estimators=100))\n",
    "])\n",
    "predicted = sk.model_selection.cross_val_predict(pipeline, X_train, y_train, cv=10)\n",
    "\n",
    "fig, ax = plt.subplots()\n",
    "predicted = np.array([x**2 for x in predicted])\n",
    "y_train_unnormed = np.array([ x**2 for x in y_train])\n",
    "ax.scatter(predicted,y_train_unnormed)\n",
    "ax.plot([y_train_unnormed.min(), y_train_unnormed.max()], [y_train_unnormed.min(), y_train_unnormed.max()], 'k--', lw=4)\n",
    "ax.set_xlabel('Measured')\n",
    "ax.set_ylabel('Predicted')\n",
    "plt.show()\n",
    "\n",
    "scores = sk.model_selection.cross_val_score(pipeline,X_train,y_train,cv=10,\n",
    "    scoring='neg_mean_squared_error')\n",
    "print(scores)\n",
    "print(np.mean(scores))"
   ]
  },
  {
   "cell_type": "code",
   "execution_count": 86,
   "metadata": {
    "collapsed": false
   },
   "outputs": [
    {
     "data": {
      "image/png": "[encoded data removed]",
      "text/plain": [
       "<Figure size 432x288 with 1 Axes>"
      ]
     },
     "metadata": {
      "needs_background": "light"
     },
     "output_type": "display_data"
    }
   ],
   "source": [
    "fig, ax = plt.subplots()\n",
    "residuals = (predicted - y_train_unnormed)\n",
    "residuals = stats.zscore(residuals)\n",
    "\n",
    "ax.scatter(predicted, residuals)\n",
    "ax.plot([predicted.min(), predicted.max()], [0 for i in [predicted.min(), predicted.max()]] , 'k--', lw=4)\n",
    "ax.set_xlabel('Predicted')\n",
    "ax.set_ylabel('Residual')\n",
    "plt.show()"
   ]
  },
  {
   "cell_type": "markdown",
   "metadata": {},
   "source": [
    "We also do a quartile plot again and we can see a much more linear shape indicating again that random forest regression is in fact a better model for our data."
   ]
  },
  {
   "cell_type": "code",
   "execution_count": 87,
   "metadata": {},
   "outputs": [
    {
     "data": {
      "image/png": "[encoded data removed]",
      "text/plain": [
       "<Figure size 432x288 with 1 Axes>"
      ]
     },
     "metadata": {
      "needs_background": "light"
     },
     "output_type": "display_data"
    }
   ],
   "source": [
    "stats.probplot(residuals, dist=\"norm\", plot=plt)\n",
    "plt.show()"
   ]
  },
  {
   "cell_type": "markdown",
   "metadata": {},
   "source": [
    "We now train our model and use our test set to make our final predictions for submission to kaggle. Normally I would have a test and a holdout set here but due to the nature of the kaggle competition mse calculations for the test and holdout set were done on kaggle."
   ]
  },
  {
   "cell_type": "code",
   "execution_count": 88,
   "metadata": {
    "collapsed": false
   },
   "outputs": [
    {
     "name": "stdout",
     "output_type": "stream",
     "text": [
      "[18.81651858 26.87769198 19.12966293 ... 44.47649076 44.32252448\n",
      " 42.9740986 ]\n"
     ]
    }
   ],
   "source": [
    "pipeline.fit(X_train,y_train)\n",
    "final = pipeline.predict(X_test)\n",
    "final = np.array([x**2 for x in final])\n",
    "print(final)"
   ]
  },
  {
   "cell_type": "code",
   "execution_count": null,
   "metadata": {
    "collapsed": false
   },
   "outputs": [],
   "source": [
    "\n"
   ]
  },
  {
   "cell_type": "code",
   "execution_count": null,
   "metadata": {
    "collapsed": true
   },
   "outputs": [],
   "source": []
  }
 ],
 "metadata": {
  "kernelspec": {
   "display_name": "Python 3",
   "language": "python",
   "name": "python3"
  },
  "language_info": {
   "codemirror_mode": {
    "name": "ipython",
    "version": 3
   },
   "file_extension": ".py",
   "mimetype": "text/x-python",
   "name": "python",
   "nbconvert_exporter": "python",
   "pygments_lexer": "ipython3",
   "version": "3.6.7"
  }
 },
 "nbformat": 4,
 "nbformat_minor": 2
}
